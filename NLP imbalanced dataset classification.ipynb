{
 "cells": [
  {
   "cell_type": "code",
   "execution_count": 2,
   "metadata": {},
   "outputs": [
    {
     "data": {
      "text/html": [
       "<div>\n",
       "<style scoped>\n",
       "    .dataframe tbody tr th:only-of-type {\n",
       "        vertical-align: middle;\n",
       "    }\n",
       "\n",
       "    .dataframe tbody tr th {\n",
       "        vertical-align: top;\n",
       "    }\n",
       "\n",
       "    .dataframe thead th {\n",
       "        text-align: right;\n",
       "    }\n",
       "</style>\n",
       "<table border=\"1\" class=\"dataframe\">\n",
       "  <thead>\n",
       "    <tr style=\"text-align: right;\">\n",
       "      <th></th>\n",
       "      <th>review</th>\n",
       "      <th>label</th>\n",
       "    </tr>\n",
       "  </thead>\n",
       "  <tbody>\n",
       "    <tr>\n",
       "      <th>0</th>\n",
       "      <td>After 6 years of faithful service, my hard dri...</td>\n",
       "      <td>0</td>\n",
       "    </tr>\n",
       "    <tr>\n",
       "      <th>1</th>\n",
       "      <td>So far so good - this is a comprehensive and p...</td>\n",
       "      <td>0</td>\n",
       "    </tr>\n",
       "    <tr>\n",
       "      <th>2</th>\n",
       "      <td>This has been a great and easy software to use...</td>\n",
       "      <td>0</td>\n",
       "    </tr>\n",
       "    <tr>\n",
       "      <th>3</th>\n",
       "      <td>This router is great. The setup and installati...</td>\n",
       "      <td>0</td>\n",
       "    </tr>\n",
       "    <tr>\n",
       "      <th>4</th>\n",
       "      <td>Overview\\n\\nThis is a great array for someone ...</td>\n",
       "      <td>0</td>\n",
       "    </tr>\n",
       "    <tr>\n",
       "      <th>...</th>\n",
       "      <td>...</td>\n",
       "      <td>...</td>\n",
       "    </tr>\n",
       "    <tr>\n",
       "      <th>3820</th>\n",
       "      <td>Item: Cyberlink PowerDVD 14 Ultra, Rating 4.5 ...</td>\n",
       "      <td>0</td>\n",
       "    </tr>\n",
       "    <tr>\n",
       "      <th>3821</th>\n",
       "      <td>For nearly 3 years my desktop computer has had...</td>\n",
       "      <td>0</td>\n",
       "    </tr>\n",
       "    <tr>\n",
       "      <th>3822</th>\n",
       "      <td>And H&amp;R Block kept up with the rules and regul...</td>\n",
       "      <td>0</td>\n",
       "    </tr>\n",
       "    <tr>\n",
       "      <th>3823</th>\n",
       "      <td>I was fortunate enough to be a Beta tester thi...</td>\n",
       "      <td>0</td>\n",
       "    </tr>\n",
       "    <tr>\n",
       "      <th>3824</th>\n",
       "      <td>This once was the best software. Now? Not so m...</td>\n",
       "      <td>1</td>\n",
       "    </tr>\n",
       "  </tbody>\n",
       "</table>\n",
       "<p>3825 rows × 2 columns</p>\n",
       "</div>"
      ],
      "text/plain": [
       "                                                 review  label\n",
       "0     After 6 years of faithful service, my hard dri...      0\n",
       "1     So far so good - this is a comprehensive and p...      0\n",
       "2     This has been a great and easy software to use...      0\n",
       "3     This router is great. The setup and installati...      0\n",
       "4     Overview\\n\\nThis is a great array for someone ...      0\n",
       "...                                                 ...    ...\n",
       "3820  Item: Cyberlink PowerDVD 14 Ultra, Rating 4.5 ...      0\n",
       "3821  For nearly 3 years my desktop computer has had...      0\n",
       "3822  And H&R Block kept up with the rules and regul...      0\n",
       "3823  I was fortunate enough to be a Beta tester thi...      0\n",
       "3824  This once was the best software. Now? Not so m...      1\n",
       "\n",
       "[3825 rows x 2 columns]"
      ]
     },
     "execution_count": 2,
     "metadata": {},
     "output_type": "execute_result"
    }
   ],
   "source": [
    "import warnings\n",
    "warnings.filterwarnings(\"ignore\") # Suppress warnings, useful for cleaner output\n",
    "\n",
    "import nltk\n",
    "import pandas as pd\n",
    "import numpy as np\n",
    "import re\n",
    "import string\n",
    "from sklearn.feature_extraction.text import TfidfVectorizer\n",
    "from sklearn.model_selection import train_test_split\n",
    "from imblearn.combine import SMOTEENN\n",
    "import xgboost as xgb  \n",
    "from sklearn.model_selection import StratifiedKFold\n",
    "from sklearn.metrics import classification_report, accuracy_score, f1_score, confusion_matrix\n",
    "import matplotlib.pyplot as plt\n",
    "import seaborn as sns\n",
    "\n",
    "\n",
    "\n",
    "df = pd.read_csv('D:/datasets/review data.csv', encoding='latin-1')\n",
    "df"
   ]
  },
  {
   "cell_type": "code",
   "execution_count": 4,
   "metadata": {},
   "outputs": [
    {
     "name": "stdout",
     "output_type": "stream",
     "text": [
      "missing data in review: 1\n",
      "missing data in label: 0\n"
     ]
    }
   ],
   "source": [
    "# Check for missing values in the column\n",
    "print(f'missing data in review: {sum(df.review.isnull())}')\n",
    "print(f'missing data in label: {sum(df.label.isnull())}')"
   ]
  },
  {
   "cell_type": "code",
   "execution_count": 16,
   "metadata": {},
   "outputs": [
    {
     "data": {
      "text/html": [
       "<div>\n",
       "<style scoped>\n",
       "    .dataframe tbody tr th:only-of-type {\n",
       "        vertical-align: middle;\n",
       "    }\n",
       "\n",
       "    .dataframe tbody tr th {\n",
       "        vertical-align: top;\n",
       "    }\n",
       "\n",
       "    .dataframe thead th {\n",
       "        text-align: right;\n",
       "    }\n",
       "</style>\n",
       "<table border=\"1\" class=\"dataframe\">\n",
       "  <thead>\n",
       "    <tr style=\"text-align: right;\">\n",
       "      <th></th>\n",
       "      <th>review</th>\n",
       "      <th>label</th>\n",
       "    </tr>\n",
       "  </thead>\n",
       "  <tbody>\n",
       "    <tr>\n",
       "      <th>2175</th>\n",
       "      <td>NaN</td>\n",
       "      <td>0</td>\n",
       "    </tr>\n",
       "  </tbody>\n",
       "</table>\n",
       "</div>"
      ],
      "text/plain": [
       "     review  label\n",
       "2175    NaN      0"
      ]
     },
     "execution_count": 16,
     "metadata": {},
     "output_type": "execute_result"
    }
   ],
   "source": [
    "null_rows = df.isnull().any(axis=1)\n",
    "null_indices = df[null_rows].index\n",
    "df.loc[list(null_indices)]"
   ]
  },
  {
   "cell_type": "code",
   "execution_count": 4,
   "metadata": {},
   "outputs": [
    {
     "name": "stdout",
     "output_type": "stream",
     "text": [
      "missing data in review: 0\n",
      "missing data in label: 0\n"
     ]
    }
   ],
   "source": [
    "# Drop rows where the 'review' column is missing\n",
    "df = df.dropna(subset=['review'])\n",
    "\n",
    "print(f'missing data in review: {sum(df.review.isnull())}')\n",
    "print(f'missing data in label: {sum(df.label.isnull())}')"
   ]
  },
  {
   "cell_type": "code",
   "execution_count": 5,
   "metadata": {},
   "outputs": [],
   "source": [
    "# Load the list of stopwords from NLTK\n",
    "stopwords = nltk.corpus.stopwords.words('english')\n",
    "\n",
    "# Define the text cleaning function\n",
    "def clean_text(text):\n",
    "    text = \"\".join([word.lower() for word in text if word not in string.punctuation])\n",
    "    tokens = re.findall(r'\\b\\w+\\b', text)\n",
    "    text = [word for word in tokens if word not in stopwords]\n",
    "    return text"
   ]
  },
  {
   "cell_type": "code",
   "execution_count": 6,
   "metadata": {},
   "outputs": [
    {
     "name": "stdout",
     "output_type": "stream",
     "text": [
      "Minority class ratio: 0.0228\n",
      "Majority class ratio: 0.9772\n"
     ]
    }
   ],
   "source": [
    "minority_count = df[df['label'] == 1].shape[0]\n",
    "majority_count = df[df['label'] == 0].shape[0]\n",
    "total_count = len(df)\n",
    "\n",
    "minority_ratio = minority_count / total_count  # Proportion of the minority class\n",
    "majority_ratio = majority_count / total_count  # Proportion of the majority class\n",
    "\n",
    "print(f\"Minority class ratio: {minority_ratio:.4f}\")\n",
    "print(f\"Majority class ratio: {majority_ratio:.4f}\")"
   ]
  },
  {
   "cell_type": "code",
   "execution_count": 7,
   "metadata": {},
   "outputs": [],
   "source": [
    "# Splitting data into training and testing sets\n",
    "X = df['review']\n",
    "y = df['label']\n",
    "\n",
    "X_train, X_test, y_train, y_test = train_test_split(X, y, test_size=0.2, random_state=123)\n",
    "\n",
    "# Vectorizing the text data using TF-IDF with custom cleaning function\n",
    "vectorizer = TfidfVectorizer(analyzer=clean_text)\n",
    "X_train_tfidf = vectorizer.fit_transform(X_train)\n",
    "X_test_tfidf = vectorizer.transform(X_test)\n",
    "\n",
    "# Handling class imbalance using SMOTEENN (SMOTE + Edited Nearest Neighbors)\n",
    "smote_enn = SMOTEENN(random_state=123)\n",
    "X_train_resampled, y_train_resampled = smote_enn.fit_resample(X_train_tfidf, y_train)"
   ]
  },
  {
   "cell_type": "code",
   "execution_count": 8,
   "metadata": {},
   "outputs": [
    {
     "name": "stdout",
     "output_type": "stream",
     "text": [
      "shape of original training set: (3059,)\n",
      "shape of SMOTE training set: (4329,)\n"
     ]
    }
   ],
   "source": [
    "print(f'shape of original training set: {y_train.shape}')\n",
    "print(f'shape of SMOTE training set: {y_train_resampled.shape}')"
   ]
  },
  {
   "cell_type": "code",
   "execution_count": 9,
   "metadata": {},
   "outputs": [
    {
     "name": "stdout",
     "output_type": "stream",
     "text": [
      "y train: {0: 2989, 1: 70}\n",
      "y train resampled: {0: 1383, 1: 2946}\n"
     ]
    }
   ],
   "source": [
    "from collections import Counter\n",
    "\n",
    "print(f'y train: {dict(Counter(y_train))}')\n",
    "print(f'y train resampled: {dict(Counter(y_train_resampled))}')"
   ]
  },
  {
   "cell_type": "code",
   "execution_count": 10,
   "metadata": {},
   "outputs": [],
   "source": [
    "# Calculate the scale_pos_weight: ratio of majority class to minority class in the resampled data\n",
    "scale_pos_weight = len(y_train_resampled[y_train_resampled == 0]) / len(y_train_resampled[y_train_resampled == 1])\n",
    "\n",
    "# Set up the XGBoost model with specified hyperparameters\n",
    "model = xgb.XGBClassifier(\n",
    "    n_estimators=300,  # Increased number of boosting rounds (trees)\n",
    "    learning_rate=0.05,  # Reduced learning rate for more stable model\n",
    "    max_depth=6,  # Default depth of trees\n",
    "    scale_pos_weight=scale_pos_weight,  # Set the scale_pos_weight to handle imbalance\n",
    "    random_state=123,\n",
    "    eval_metric='logloss'  # Evaluation metric for binary classification\n",
    ")"
   ]
  },
  {
   "cell_type": "code",
   "execution_count": 15,
   "metadata": {},
   "outputs": [
    {
     "name": "stdout",
     "output_type": "stream",
     "text": [
      "Classification Report for Fold: \n",
      "              precision    recall  f1-score   support\n",
      "\n",
      "           0       0.98      0.98      0.98       277\n",
      "           1       0.99      0.99      0.99       589\n",
      "\n",
      "    accuracy                           0.99       866\n",
      "   macro avg       0.98      0.99      0.99       866\n",
      "weighted avg       0.99      0.99      0.99       866\n",
      "\n"
     ]
    },
    {
     "data": {
      "image/png": "[encoded data removed]",
      "text/plain": [
       "<Figure size 432x360 with 2 Axes>"
      ]
     },
     "metadata": {
      "needs_background": "light"
     },
     "output_type": "display_data"
    },
    {
     "name": "stdout",
     "output_type": "stream",
     "text": [
      "Classification Report for Fold: \n",
      "              precision    recall  f1-score   support\n",
      "\n",
      "           0       0.98      0.98      0.98       277\n",
      "           1       0.99      0.99      0.99       589\n",
      "\n",
      "    accuracy                           0.99       866\n",
      "   macro avg       0.99      0.99      0.99       866\n",
      "weighted avg       0.99      0.99      0.99       866\n",
      "\n"
     ]
    },
    {
     "data": {
      "image/png": "[encoded data removed]",
      "text/plain": [
       "<Figure size 432x360 with 2 Axes>"
      ]
     },
     "metadata": {
      "needs_background": "light"
     },
     "output_type": "display_data"
    },
    {
     "name": "stdout",
     "output_type": "stream",
     "text": [
      "Classification Report for Fold: \n",
      "              precision    recall  f1-score   support\n",
      "\n",
      "           0       0.99      0.99      0.99       277\n",
      "           1       1.00      0.99      1.00       589\n",
      "\n",
      "    accuracy                           0.99       866\n",
      "   macro avg       0.99      0.99      0.99       866\n",
      "weighted avg       0.99      0.99      0.99       866\n",
      "\n"
     ]
    },
    {
     "data": {
      "image/png": "[encoded data removed]",
      "text/plain": [
       "<Figure size 432x360 with 2 Axes>"
      ]
     },
     "metadata": {
      "needs_background": "light"
     },
     "output_type": "display_data"
    },
    {
     "name": "stdout",
     "output_type": "stream",
     "text": [
      "Classification Report for Fold: \n",
      "              precision    recall  f1-score   support\n",
      "\n",
      "           0       1.00      0.99      0.99       276\n",
      "           1       0.99      1.00      1.00       590\n",
      "\n",
      "    accuracy                           1.00       866\n",
      "   macro avg       1.00      0.99      0.99       866\n",
      "weighted avg       1.00      1.00      1.00       866\n",
      "\n"
     ]
    },
    {
     "data": {
      "image/png": "[encoded data removed]",
      "text/plain": [
       "<Figure size 432x360 with 2 Axes>"
      ]
     },
     "metadata": {
      "needs_background": "light"
     },
     "output_type": "display_data"
    },
    {
     "name": "stdout",
     "output_type": "stream",
     "text": [
      "Classification Report for Fold: \n",
      "              precision    recall  f1-score   support\n",
      "\n",
      "           0       0.98      0.99      0.98       276\n",
      "           1       0.99      0.99      0.99       589\n",
      "\n",
      "    accuracy                           0.99       865\n",
      "   macro avg       0.99      0.99      0.99       865\n",
      "weighted avg       0.99      0.99      0.99       865\n",
      "\n"
     ]
    },
    {
     "data": {
      "image/png": "[encoded data removed]",
      "text/plain": [
       "<Figure size 432x360 with 2 Axes>"
      ]
     },
     "metadata": {
      "needs_background": "light"
     },
     "output_type": "display_data"
    }
   ],
   "source": [
    "# StratifiedKFold cross-validation\n",
    "skf = StratifiedKFold(n_splits=5, shuffle=True, random_state=42)\n",
    "\n",
    "f1scores = []\n",
    "\n",
    "for train_index, val_index in skf.split(X_train_resampled, y_train_resampled):\n",
    "    X_train_fold, X_val_fold = X_train_resampled[train_index], X_train_resampled[val_index]\n",
    "    y_train_fold, y_val_fold = y_train_resampled[train_index], y_train_resampled[val_index]\n",
    "    \n",
    "    model.fit(X_train_fold, y_train_fold)\n",
    "    \n",
    "    y_pred_fold = model.predict(X_val_fold)\n",
    "    \n",
    "    f1 = f1_score(y_val_fold, y_pred_fold)\n",
    "    f1scores.append(f1) \n",
    "    \n",
    "    # Print classification report for analysis\n",
    "    print(f\"Classification Report for Fold: \\n{classification_report(y_val_fold, y_pred_fold)}\")\n",
    "    \n",
    "    # Generate confusion matrix\n",
    "    cm = confusion_matrix(y_val_fold, y_pred_fold)\n",
    "\n",
    "    \n",
    "    # Display confusion matrix using seaborn heatmap\n",
    "    plt.figure(figsize=(6, 5))\n",
    "    sns.heatmap(cm, annot=True, fmt='d', cmap='Blues', \n",
    "                xticklabels=['Class 0', 'Class 1'], yticklabels=['Class 0', 'Class 1'])\n",
    "    plt.title(f'Confusion Matrix for Fold')\n",
    "    plt.xlabel('Predicted')\n",
    "    plt.ylabel('True')\n",
    "    plt.show()"
   ]
  },
  {
   "cell_type": "code",
   "execution_count": 16,
   "metadata": {},
   "outputs": [
    {
     "name": "stdout",
     "output_type": "stream",
     "text": [
      "Mean F1 score: 0.9934\n",
      "Standard Deviation of F1 score: 0.0024\n",
      "\n",
      "List of F1 Score from StratifiedKFold cross-validation: \n",
      "[0.9906542056074766, 0.9915110356536503, 0.9957519116397621, 0.9966159052453469, 0.9923404255319148]\n"
     ]
    }
   ],
   "source": [
    "print(f'Mean F1 score: {np.mean(f1scores):.4f}')\n",
    "print(f'Standard Deviation of F1 score: {np.std(f1scores):.4f}')\n",
    "print()\n",
    "print(f'List of F1 Score from StratifiedKFold cross-validation: \\n{f1scores}')"
   ]
  },
  {
   "cell_type": "code",
   "execution_count": null,
   "metadata": {},
   "outputs": [],
   "source": []
  }
 ],
 "metadata": {
  "kernelspec": {
   "display_name": "Python 3",
   "language": "python",
   "name": "python3"
  },
  "language_info": {
   "codemirror_mode": {
    "name": "ipython",
    "version": 3
   },
   "file_extension": ".py",
   "mimetype": "text/x-python",
   "name": "python",
   "nbconvert_exporter": "python",
   "pygments_lexer": "ipython3",
   "version": "3.7.4"
  },
  "vp": {
   "vp_config_version": "1.0.0",
   "vp_menu_width": 273,
   "vp_note_display": false,
   "vp_note_width": 0,
   "vp_position": {
    "width": 278
   },
   "vp_section_display": false,
   "vp_signature": "VisualPython"
  }
 },
 "nbformat": 4,
 "nbformat_minor": 2
}
